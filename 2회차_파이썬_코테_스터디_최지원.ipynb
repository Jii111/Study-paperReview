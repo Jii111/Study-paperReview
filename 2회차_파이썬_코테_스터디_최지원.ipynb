{
  "nbformat": 4,
  "nbformat_minor": 0,
  "metadata": {
    "colab": {
      "provenance": [],
      "authorship_tag": "ABX9TyOogpwFQtcdqCMTMOfaA8Oe"
    },
    "kernelspec": {
      "name": "python3",
      "display_name": "Python 3"
    },
    "language_info": {
      "name": "python"
    }
  },
  "cells": [
    {
      "cell_type": "markdown",
      "source": [
        "# #1260"
      ],
      "metadata": {
        "id": "wdGFW22kWqhs"
      }
    },
    {
      "cell_type": "code",
      "execution_count": null,
      "metadata": {
        "id": "dsI3mdFpSXdO"
      },
      "outputs": [],
      "source": [
        "from collections import deque\n",
        "import sys\n",
        "\n",
        "# input-1\n",
        "N,M,V = map(int, sys.stdin.readline().split())\n",
        "\n",
        "# input-2\n",
        "# 정점 번호와 index 맞춰주기 위해 (N+1)\n",
        "a_list = [[False]*(N+1)for i in range(N+1)] \n",
        "visited = [False]*(N+1)\n",
        "\n",
        "# 노드 연결 True/False로 표현\n",
        "for i in range(M):\n",
        "    a, b =  map(int,sys.stdin.readline().split())\n",
        "    a_list[a][b] = a_list[b][a] = True # 중복 방지\n",
        "\n",
        "print(visited)\n",
        "print(a_list)\n",
        "\n",
        "# 깊이 우선 탐색 알고리즘\n",
        "def dfs(x):\n",
        "  if visited[x]==False:\n",
        "    visited[x]=True\n",
        "    print(x, end=\" \")\n",
        "    \n",
        "    for i in range(1,N+1):\n",
        "      if a_list[x][i]==True:\n",
        "        dfs(i)\n",
        "\n",
        "# 너비 우선 탐색 알고리즘\n",
        "def bfs(x):\n",
        "  queue = deque([x]) # 양방향 que\n",
        "  visited[x]=False\n",
        "    \n",
        "  while queue:\n",
        "    x=queue.popleft()\n",
        "    print(x, end=\" \")\n",
        "\n",
        "    for i in range(1, N+1):\n",
        "      if (visited[i]==True and a_list[x][i]==True):\n",
        "        visited[i]=False\n",
        "        queue.append(i)\n",
        "\n",
        "dfs(V)\n",
        "print()\n",
        "bfs(V)"
      ]
    },
    {
      "cell_type": "markdown",
      "source": [
        "# #18352"
      ],
      "metadata": {
        "id": "QYGg577lWtXw"
      }
    },
    {
      "cell_type": "code",
      "source": [
        "import sys\n",
        "from collections import deque\n",
        "\n",
        "# input-1\n",
        "n,m,k,x= map(int, sys.stdin.readline().split())\n",
        "destination = [[] for _ in range(n+1)]\n",
        "\n",
        "# input-2\n",
        "for _ in range(m):\n",
        "    a,b = map(int, sys.stdin.readline().split())\n",
        "    destination[a].append(b)\n",
        "\n",
        "# 최단 거리 초기화\n",
        "distance = [-1]*(n+1)\n",
        "# x -> x\n",
        "distance[x]=0 \n",
        "\n",
        "# 거리 계산\n",
        "deq=deque([x])\n",
        "while deq:\n",
        "    target = deq.popleft()\n",
        "    for next_node in destination[target]:\n",
        "        if distance[next_node] == -1:\n",
        "            distance[next_node] = distance[target] + 1\n",
        "            deq.append(next_node)\n",
        "\n",
        "# k 값따라 출력\n",
        "if k in distance:\n",
        "  for i in range(1, n+1):\n",
        "    if distance[i] == k:\n",
        "      print(i)\n",
        "else:\n",
        "  print(-1)"
      ],
      "metadata": {
        "id": "N9LZqJRQXXcG"
      },
      "execution_count": null,
      "outputs": []
    },
    {
      "cell_type": "markdown",
      "source": [
        "# #1182"
      ],
      "metadata": {
        "id": "5O_xrkCDbWtE"
      }
    },
    {
      "cell_type": "code",
      "source": [
        "import sys\n",
        "from itertools import combinations\n",
        "\n",
        "# input\n",
        "n, s = map(int, sys.stdin.readline().split())\n",
        "arr = list(map(int, input().split()))\n",
        "cnt = 0\n",
        "\n",
        "\n",
        "for i in range(1, n+1):\n",
        "    comb = combinations(arr, i) # 뽑을 수 있는 모든 조합 찾기\n",
        "    for x in comb:\n",
        "        if sum(x) == s:\n",
        "            cnt += 1\n",
        "\n",
        "print(cnt)"
      ],
      "metadata": {
        "id": "4llNnfjTbX2C"
      },
      "execution_count": null,
      "outputs": []
    }
  ]
}